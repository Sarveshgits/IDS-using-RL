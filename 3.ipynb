{
 "cells": [
  {
   "cell_type": "code",
   "execution_count": 34,
   "metadata": {},
   "outputs": [
    {
     "name": "stdout",
     "output_type": "stream",
     "text": [
      "Requirement already satisfied: tqdm in c:\\python312\\lib\\site-packages (4.66.5)\n",
      "Requirement already satisfied: colorama in c:\\python312\\lib\\site-packages (from tqdm) (0.4.6)\n"
     ]
    },
    {
     "name": "stderr",
     "output_type": "stream",
     "text": [
      "\n",
      "[notice] A new release of pip is available: 24.0 -> 24.2\n",
      "[notice] To update, run: C:\\Python312\\python.exe -m pip install --upgrade pip\n"
     ]
    }
   ],
   "source": [
    "!pip install tqdm"
   ]
  },
  {
   "cell_type": "code",
   "execution_count": 35,
   "metadata": {},
   "outputs": [
    {
     "name": "stdout",
     "output_type": "stream",
     "text": [
      "Available columns: Index(['frame.interface_id', 'frame.dlt', 'frame.offset_shift',\n",
      "       'frame.time_epoch', 'frame.time_delta', 'frame.time_delta_displayed',\n",
      "       'frame.time_relative', 'frame.len', 'frame.cap_len', 'frame.marked',\n",
      "       ...\n",
      "       'wlan.qos.priority', 'wlan.qos.eosp', 'wlan.qos.ack',\n",
      "       'wlan.qos.amsdupresent', 'wlan.qos.buf_state_indicated',\n",
      "       'wlan.qos.bit4', 'wlan.qos.txop_dur_req',\n",
      "       'wlan.qos.buf_state_indicated.1', 'data.len', 'label'],\n",
      "      dtype='object', length=155)\n"
     ]
    },
    {
     "name": "stderr",
     "output_type": "stream",
     "text": [
      "C:\\Users\\sarve\\AppData\\Local\\Temp\\ipykernel_17920\\3442605905.py:171: DtypeWarning: Columns (0,1,2,3,4,5,6,7,8,9,10,11,12,13,14,15,16,17,18,19,20,21,22,23,24,25,26,27,28,29,30,31,32,33,34,35,36,37,38,39,40,41,42,43,44,45,46,47,48,49,50,51,52,53,54,55,56,57,58,59,60,61,62,63,64,65,66,67,68,69,70,71,72,73,74,75,76,77,78,79,80,81,82,83,84,85,86,87,88,89,90,91,92,93,94,95,96,97,98,99,100,101,102,103,104,105,106,107,108,109,110,111,112,113,114,115,116,117,118,119,120,121,122,123,124,125,126,127,128,129,130,131,132,133,134,135,136,137,138,139,140,141,142,143,144,145,146,147,148,149,150,151,152,153,154) have mixed types. Specify dtype option on import or set low_memory=False.\n",
      "  df = pd.read_csv(csv_file_path, header=None)\n"
     ]
    },
    {
     "name": "stdout",
     "output_type": "stream",
     "text": [
      "Column names added successfully to ./Book1.csv\n",
      "Processing columns: ['frame.interface_id', 'frame.dlt', 'frame.offset_shift', 'frame.time_epoch', 'frame.time_delta', 'frame.time_delta_displayed', 'frame.time_relative', 'frame.len', 'frame.cap_len', 'frame.marked', 'frame.ignored', 'radiotap.version', 'radiotap.pad', 'radiotap.length', 'radiotap.present.tsft', 'radiotap.present.flags', 'radiotap.present.rate', 'radiotap.present.channel', 'radiotap.present.fhss', 'radiotap.present.dbm_antsignal', 'radiotap.present.dbm_antnoise', 'radiotap.present.lock_quality', 'radiotap.present.tx_attenuation', 'radiotap.present.db_tx_attenuation', 'radiotap.present.dbm_tx_power', 'radiotap.present.antenna', 'radiotap.present.db_antsignal', 'radiotap.present.db_antnoise', 'radiotap.present.rxflags', 'radiotap.present.xchannel', 'radiotap.present.mcs', 'radiotap.present.ampdu', 'radiotap.present.vht', 'radiotap.present.reserved', 'radiotap.present.rtap_ns', 'radiotap.present.vendor_ns', 'radiotap.present.ext', 'radiotap.mactime', 'radiotap.flags.cfp', 'radiotap.flags.preamble', 'radiotap.flags.wep', 'radiotap.flags.frag', 'radiotap.flags.fcs', 'radiotap.flags.datapad', 'radiotap.flags.badfcs', 'radiotap.flags.shortgi', 'radiotap.datarate', 'radiotap.channel.freq', 'radiotap.channel.type.turbo', 'radiotap.channel.type.cck', 'radiotap.channel.type.ofdm', 'radiotap.channel.type.2ghz', 'radiotap.channel.type.5ghz', 'radiotap.channel.type.passive', 'radiotap.channel.type.dynamic', 'radiotap.channel.type.gfsk', 'radiotap.channel.type.gsm', 'radiotap.channel.type.sturbo', 'radiotap.channel.type.half', 'radiotap.channel.type.quarter', 'radiotap.dbm_antsignal', 'radiotap.antenna', 'radiotap.rxflags.badplcp', 'wlan.fc.type_subtype', 'wlan.fc.version', 'wlan.fc.type', 'wlan.fc.subtype', 'wlan.fc.ds', 'wlan.fc.frag', 'wlan.fc.retry', 'wlan.fc.pwrmgt', 'wlan.fc.moredata', 'wlan.fc.protected', 'wlan.fc.order', 'wlan.duration', 'wlan.ra', 'wlan.da', 'wlan.ta', 'wlan.sa', 'wlan.bssid', 'wlan.frag', 'wlan.seq', 'wlan.bar.type', 'wlan.ba.control.ackpolicy', 'wlan.ba.control.multitid', 'wlan.ba.control.cbitmap', 'wlan.bar.compressed.tidinfo', 'wlan.ba.bm', 'wlan.fcs_good', 'wlan_mgt.fixed.capabilities.ess', 'wlan_mgt.fixed.capabilities.ibss', 'wlan_mgt.fixed.capabilities.cfpoll.ap', 'wlan_mgt.fixed.capabilities.privacy', 'wlan_mgt.fixed.capabilities.preamble', 'wlan_mgt.fixed.capabilities.pbcc', 'wlan_mgt.fixed.capabilities.agility', 'wlan_mgt.fixed.capabilities.spec_man', 'wlan_mgt.fixed.capabilities.short_slot_time', 'wlan_mgt.fixed.capabilities.apsd', 'wlan_mgt.fixed.capabilities.radio_measurement', 'wlan_mgt.fixed.capabilities.dsss_ofdm', 'wlan_mgt.fixed.capabilities.del_blk_ack', 'wlan_mgt.fixed.capabilities.imm_blk_ack', 'wlan_mgt.fixed.listen_ival', 'wlan_mgt.fixed.current_ap', 'wlan_mgt.fixed.status_code', 'wlan_mgt.fixed.timestamp', 'wlan_mgt.fixed.beacon', 'wlan_mgt.fixed.aid', 'wlan_mgt.fixed.reason_code', 'wlan_mgt.fixed.auth.alg', 'wlan_mgt.fixed.auth_seq', 'wlan_mgt.fixed.category_code', 'wlan_mgt.fixed.htact', 'wlan_mgt.fixed.chanwidth', 'wlan_mgt.fixed.fragment', 'wlan_mgt.fixed.sequence', 'wlan_mgt.tagged.all', 'wlan_mgt.ssid', 'wlan_mgt.ds.current_channel', 'wlan_mgt.tim.dtim_count', 'wlan_mgt.tim.dtim_period', 'wlan_mgt.tim.bmapctl.multicast', 'wlan_mgt.tim.bmapctl.offset', 'wlan_mgt.country_info.environment', 'wlan_mgt.rsn.version', 'wlan_mgt.rsn.gcs.type', 'wlan_mgt.rsn.pcs.count', 'wlan_mgt.rsn.akms.count', 'wlan_mgt.rsn.akms.type', 'wlan_mgt.rsn.capabilities.preauth', 'wlan_mgt.rsn.capabilities.no_pairwise', 'wlan_mgt.rsn.capabilities.ptksa_replay_counter', 'wlan_mgt.rsn.capabilities.gtksa_replay_counter', 'wlan_mgt.rsn.capabilities.mfpr', 'wlan_mgt.rsn.capabilities.mfpc', 'wlan_mgt.rsn.capabilities.peerkey', 'wlan_mgt.tcprep.trsmt_pow', 'wlan_mgt.tcprep.link_mrg', 'wlan.wep.iv', 'wlan.wep.key', 'wlan.wep.icv', 'wlan.tkip.extiv', 'wlan.ccmp.extiv', 'wlan.qos.tid', 'wlan.qos.priority', 'wlan.qos.eosp', 'wlan.qos.ack', 'wlan.qos.amsdupresent', 'wlan.qos.buf_state_indicated', 'wlan.qos.bit4', 'wlan.qos.txop_dur_req', 'wlan.qos.buf_state_indicated', 'data.len', 'class']\n"
     ]
    }
   ],
   "source": [
    "import pandas as pd\n",
    "\n",
    "# Define the path to your AWID CLSR CSV file\n",
    "csv_file_path = './Book1.csv'\n",
    "\n",
    "# Load the CSV file\n",
    "df = pd.read_csv(csv_file_path)\n",
    "\n",
    "# Print column names to verify and debug\n",
    "print(\"Available columns:\", df.columns)\n",
    "\n",
    "# Define the columns you expect (example list, update as needed)\n",
    "expected_columns = [\n",
    "    'frame.interface_id',\n",
    "    'frame.dlt',\n",
    "    'frame.offset_shift',\n",
    "    'frame.time_epoch',\n",
    "    'frame.time_delta',\n",
    "    'frame.time_delta_displayed',\n",
    "    'frame.time_relative',\n",
    "    'frame.len',\n",
    "    'frame.cap_len',\n",
    "    'frame.marked',\n",
    "    'frame.ignored',\n",
    "    'radiotap.version',\n",
    "    'radiotap.pad',\n",
    "    'radiotap.length',\n",
    "    'radiotap.present.tsft',\n",
    "    'radiotap.present.flags',\n",
    "    'radiotap.present.rate',\n",
    "    'radiotap.present.channel',\n",
    "    'radiotap.present.fhss',\n",
    "    'radiotap.present.dbm_antsignal',\n",
    "    'radiotap.present.dbm_antnoise',\n",
    "    'radiotap.present.lock_quality',\n",
    "    'radiotap.present.tx_attenuation',\n",
    "    'radiotap.present.db_tx_attenuation',\n",
    "    'radiotap.present.dbm_tx_power',\n",
    "    'radiotap.present.antenna',\n",
    "    'radiotap.present.db_antsignal',\n",
    "    'radiotap.present.db_antnoise',\n",
    "    'radiotap.present.rxflags',\n",
    "    'radiotap.present.xchannel',\n",
    "    'radiotap.present.mcs',\n",
    "    'radiotap.present.ampdu',\n",
    "    'radiotap.present.vht',\n",
    "    'radiotap.present.reserved',\n",
    "    'radiotap.present.rtap_ns',\n",
    "    'radiotap.present.vendor_ns',\n",
    "    'radiotap.present.ext',\n",
    "    'radiotap.mactime',\n",
    "    'radiotap.flags.cfp',\n",
    "    'radiotap.flags.preamble',\n",
    "    'radiotap.flags.wep',\n",
    "    'radiotap.flags.frag',\n",
    "    'radiotap.flags.fcs',\n",
    "    'radiotap.flags.datapad',\n",
    "    'radiotap.flags.badfcs',\n",
    "    'radiotap.flags.shortgi',\n",
    "    'radiotap.datarate',\n",
    "    'radiotap.channel.freq',\n",
    "    'radiotap.channel.type.turbo',\n",
    "    'radiotap.channel.type.cck',\n",
    "    'radiotap.channel.type.ofdm',\n",
    "    'radiotap.channel.type.2ghz',\n",
    "    'radiotap.channel.type.5ghz',\n",
    "    'radiotap.channel.type.passive',\n",
    "    'radiotap.channel.type.dynamic',\n",
    "    'radiotap.channel.type.gfsk',\n",
    "    'radiotap.channel.type.gsm',\n",
    "    'radiotap.channel.type.sturbo',\n",
    "    'radiotap.channel.type.half',\n",
    "    'radiotap.channel.type.quarter',\n",
    "    'radiotap.dbm_antsignal',\n",
    "    'radiotap.antenna',\n",
    "    'radiotap.rxflags.badplcp',\n",
    "    'wlan.fc.type_subtype',\n",
    "    'wlan.fc.version',\n",
    "    'wlan.fc.type',\n",
    "    'wlan.fc.subtype',\n",
    "    'wlan.fc.ds',\n",
    "    'wlan.fc.frag',\n",
    "    'wlan.fc.retry',\n",
    "    'wlan.fc.pwrmgt',\n",
    "    'wlan.fc.moredata',\n",
    "    'wlan.fc.protected',\n",
    "    'wlan.fc.order',\n",
    "    'wlan.duration',\n",
    "    'wlan.ra',\n",
    "    'wlan.da',\n",
    "    'wlan.ta',\n",
    "    'wlan.sa',\n",
    "    'wlan.bssid',\n",
    "    'wlan.frag',\n",
    "    'wlan.seq',\n",
    "    'wlan.bar.type',\n",
    "    'wlan.ba.control.ackpolicy',\n",
    "    'wlan.ba.control.multitid',\n",
    "    'wlan.ba.control.cbitmap',\n",
    "    'wlan.bar.compressed.tidinfo',\n",
    "    'wlan.ba.bm',\n",
    "    'wlan.fcs_good',\n",
    "    'wlan_mgt.fixed.capabilities.ess',\n",
    "    'wlan_mgt.fixed.capabilities.ibss',\n",
    "    'wlan_mgt.fixed.capabilities.cfpoll.ap',\n",
    "    'wlan_mgt.fixed.capabilities.privacy',\n",
    "    'wlan_mgt.fixed.capabilities.preamble',\n",
    "    'wlan_mgt.fixed.capabilities.pbcc',\n",
    "    'wlan_mgt.fixed.capabilities.agility',\n",
    "    'wlan_mgt.fixed.capabilities.spec_man',\n",
    "    'wlan_mgt.fixed.capabilities.short_slot_time',\n",
    "    'wlan_mgt.fixed.capabilities.apsd',\n",
    "    'wlan_mgt.fixed.capabilities.radio_measurement',\n",
    "    'wlan_mgt.fixed.capabilities.dsss_ofdm',\n",
    "    'wlan_mgt.fixed.capabilities.del_blk_ack',\n",
    "    'wlan_mgt.fixed.capabilities.imm_blk_ack',\n",
    "    'wlan_mgt.fixed.listen_ival',\n",
    "    'wlan_mgt.fixed.current_ap',\n",
    "    'wlan_mgt.fixed.status_code',\n",
    "    'wlan_mgt.fixed.timestamp',\n",
    "    'wlan_mgt.fixed.beacon',\n",
    "    'wlan_mgt.fixed.aid',\n",
    "    'wlan_mgt.fixed.reason_code',\n",
    "    'wlan_mgt.fixed.auth.alg',\n",
    "    'wlan_mgt.fixed.auth_seq',\n",
    "    'wlan_mgt.fixed.category_code',\n",
    "    'wlan_mgt.fixed.htact',\n",
    "    'wlan_mgt.fixed.chanwidth',\n",
    "    'wlan_mgt.fixed.fragment',\n",
    "    'wlan_mgt.fixed.sequence',\n",
    "    'wlan_mgt.tagged.all',\n",
    "    'wlan_mgt.ssid',\n",
    "    'wlan_mgt.ds.current_channel',\n",
    "    'wlan_mgt.tim.dtim_count',\n",
    "    'wlan_mgt.tim.dtim_period',\n",
    "    'wlan_mgt.tim.bmapctl.multicast',\n",
    "    'wlan_mgt.tim.bmapctl.offset',\n",
    "    'wlan_mgt.country_info.environment',\n",
    "    'wlan_mgt.rsn.version',\n",
    "    'wlan_mgt.rsn.gcs.type',\n",
    "    'wlan_mgt.rsn.pcs.count',\n",
    "    'wlan_mgt.rsn.akms.count',\n",
    "    'wlan_mgt.rsn.akms.type',\n",
    "    'wlan_mgt.rsn.capabilities.preauth',\n",
    "    'wlan_mgt.rsn.capabilities.no_pairwise',\n",
    "    'wlan_mgt.rsn.capabilities.ptksa_replay_counter',\n",
    "    'wlan_mgt.rsn.capabilities.gtksa_replay_counter',\n",
    "    'wlan_mgt.rsn.capabilities.mfpr',\n",
    "    'wlan_mgt.rsn.capabilities.mfpc',\n",
    "    'wlan_mgt.rsn.capabilities.peerkey',\n",
    "    'wlan_mgt.tcprep.trsmt_pow',\n",
    "    'wlan_mgt.tcprep.link_mrg',\n",
    "    'wlan.wep.iv',\n",
    "    'wlan.wep.key',\n",
    "    'wlan.wep.icv',\n",
    "    'wlan.tkip.extiv',\n",
    "    'wlan.ccmp.extiv',\n",
    "    'wlan.qos.tid',\n",
    "    'wlan.qos.priority',\n",
    "    'wlan.qos.eosp',\n",
    "    'wlan.qos.ack',\n",
    "    'wlan.qos.amsdupresent',\n",
    "    'wlan.qos.buf_state_indicated',\n",
    "    'wlan.qos.bit4',\n",
    "    'wlan.qos.txop_dur_req',\n",
    "    'wlan.qos.buf_state_indicated',\n",
    "    'data.len',\n",
    "    'class'\n",
    "     # Ensure 'class' is included\n",
    "]\n",
    "df = pd.read_csv(csv_file_path, header=None)\n",
    "\n",
    "# Add the column names\n",
    "df.columns = expected_columns\n",
    "\n",
    "# Save the updated CSV file\n",
    "df.to_csv(csv_file_path, index=False)\n",
    "\n",
    "print(f\"Column names added successfully to {csv_file_path}\")\n",
    "# Check for missing columns\n",
    "missing_columns = [col for col in expected_columns if col not in df.columns]\n",
    "if missing_columns:\n",
    "    print(f\"Warning: Missing columns {missing_columns}\")\n",
    "\n",
    "# Proceed with the columns that are available\n",
    "existing_columns = [col for col in expected_columns if col in df.columns]\n",
    "print(\"Processing columns:\", existing_columns)\n",
    "\n"
   ]
  },
  {
   "cell_type": "code",
   "execution_count": 36,
   "metadata": {},
   "outputs": [],
   "source": [
    "import numpy as np\n",
    "\n",
    "df.replace('?', np.nan, inplace=True)\n",
    "\n",
    "# Convert all columns to numeric values, coercing when necessary\n",
    "df = df.apply(pd.to_numeric, errors='coerce')\n",
    "\n",
    "# Fill NaN values with the median of each column\n",
    "df.fillna(df.median(), inplace=True)\n"
   ]
  },
  {
   "cell_type": "code",
   "execution_count": 37,
   "metadata": {},
   "outputs": [
    {
     "name": "stdout",
     "output_type": "stream",
     "text": [
      "Are there any NaN values left? 22450155\n"
     ]
    }
   ],
   "source": [
    "print(\"Are there any NaN values left?\", df.isna().sum().sum())\n"
   ]
  },
  {
   "cell_type": "code",
   "execution_count": 38,
   "metadata": {},
   "outputs": [],
   "source": [
    "if 'class' in df.columns:\n",
    "    df['class'] = df['class'].astype(str)\n",
    "    df['label'] = df['class'].apply(lambda x: 0 if x.strip().lower() == 'normal' else 1)\n",
    "    df = df.drop(columns=['class'])\n",
    "else:\n",
    "    raise ValueError(\"The 'class' column is missing from the dataset.\")"
   ]
  },
  {
   "cell_type": "code",
   "execution_count": 39,
   "metadata": {},
   "outputs": [
    {
     "name": "stdout",
     "output_type": "stream",
     "text": [
      "Labeling completed and saved to ./Book1.csv.\n"
     ]
    }
   ],
   "source": [
    "output_file_path = './Book1.csv'\n",
    "df.to_csv(output_file_path, index=False)\n",
    "print(f\"Labeling completed and saved to {output_file_path}.\")"
   ]
  },
  {
   "cell_type": "code",
   "execution_count": 40,
   "metadata": {},
   "outputs": [
    {
     "name": "stderr",
     "output_type": "stream",
     "text": [
      "c:\\Users\\sarve\\AppData\\Local\\Programs\\Python\\Python310\\lib\\site-packages\\sklearn\\utils\\extmath.py:1051: RuntimeWarning: invalid value encountered in divide\n",
      "  updated_mean = (last_sum + new_sum) / updated_sample_count\n",
      "c:\\Users\\sarve\\AppData\\Local\\Programs\\Python\\Python310\\lib\\site-packages\\sklearn\\utils\\extmath.py:1056: RuntimeWarning: invalid value encountered in divide\n",
      "  T = new_sum / new_sample_count\n",
      "c:\\Users\\sarve\\AppData\\Local\\Programs\\Python\\Python310\\lib\\site-packages\\sklearn\\utils\\extmath.py:1076: RuntimeWarning: invalid value encountered in divide\n",
      "  new_unnormalized_variance -= correction**2 / new_sample_count\n"
     ]
    },
    {
     "name": "stdout",
     "output_type": "stream",
     "text": [
      "Are there any NaN values left after scaling? 22450155\n"
     ]
    }
   ],
   "source": [
    "from sklearn.preprocessing import StandardScaler\n",
    "from sklearn.feature_selection import SelectKBest, f_classif\n",
    "\n",
    "\n",
    "df = pd.read_csv(output_file_path)\n",
    "\n",
    "# Separate features and target\n",
    "X = df.drop(columns=['label'])\n",
    "y = df['label']\n",
    "\n",
    "# Standardize the features\n",
    "scaler = StandardScaler()\n",
    "X_scaled = scaler.fit_transform(X)\n",
    "\n",
    "print(\"Are there any NaN values left after scaling?\", np.isnan(X_scaled).sum())\n",
    "\n",
    "if np.isnan(X_scaled).sum() > 0:\n",
    "    X_scaled = np.nan_to_num(X_scaled, nan=np.nanmean(X_scaled))"
   ]
  },
  {
   "cell_type": "code",
   "execution_count": 41,
   "metadata": {},
   "outputs": [
    {
     "name": "stderr",
     "output_type": "stream",
     "text": [
      "c:\\Users\\sarve\\AppData\\Local\\Programs\\Python\\Python310\\lib\\site-packages\\sklearn\\feature_selection\\_univariate_selection.py:108: RuntimeWarning: divide by zero encountered in divide\n",
      "  msb = ssbn / float(dfbn)\n",
      "c:\\Users\\sarve\\AppData\\Local\\Programs\\Python\\Python310\\lib\\site-packages\\sklearn\\feature_selection\\_univariate_selection.py:108: RuntimeWarning: invalid value encountered in divide\n",
      "  msb = ssbn / float(dfbn)\n"
     ]
    },
    {
     "name": "stdout",
     "output_type": "stream",
     "text": [
      "Selected features: Index(['wlan_mgt.rsn.capabilities.mfpr', 'wlan_mgt.rsn.capabilities.mfpc',\n",
      "       'wlan_mgt.rsn.capabilities.peerkey', 'wlan_mgt.tcprep.trsmt_pow',\n",
      "       'wlan_mgt.tcprep.link_mrg', 'wlan.wep.iv', 'wlan.wep.key',\n",
      "       'wlan.wep.icv', 'wlan.tkip.extiv', 'wlan.ccmp.extiv', 'wlan.qos.tid',\n",
      "       'wlan.qos.priority', 'wlan.qos.eosp', 'wlan.qos.ack',\n",
      "       'wlan.qos.amsdupresent', 'wlan.qos.buf_state_indicated',\n",
      "       'wlan.qos.bit4', 'wlan.qos.txop_dur_req',\n",
      "       'wlan.qos.buf_state_indicated.1', 'data.len'],\n",
      "      dtype='object')\n"
     ]
    }
   ],
   "source": [
    "selector = SelectKBest(score_func=f_classif, k=20)  # Adjust k based on your needs\n",
    "X_new = selector.fit_transform(X_scaled, y)\n",
    "\n",
    "# Get the selected feature names\n",
    "selected_features = X.columns[selector.get_support()]\n",
    "print(\"Selected features:\", selected_features)"
   ]
  },
  {
   "cell_type": "code",
   "execution_count": 42,
   "metadata": {},
   "outputs": [
    {
     "data": {
      "text/plain": [
       "(575645, 20)"
      ]
     },
     "execution_count": 42,
     "metadata": {},
     "output_type": "execute_result"
    }
   ],
   "source": [
    "X_new.shape"
   ]
  },
  {
   "cell_type": "code",
   "execution_count": 43,
   "metadata": {},
   "outputs": [],
   "source": [
    "import torch\n",
    "import torch.nn as nn\n",
    "import torch.optim as optim\n",
    "from torch.autograd import Variable\n",
    "import numpy as np\n",
    "\n",
    "class IDS_Environment:\n",
    "    def __init__(self, X, y):\n",
    "        self.X = X\n",
    "        self.y = y\n",
    "        self.n_actions = 2  # Normal or Intrusion (0 or 1)\n",
    "        self.current_index = 0\n",
    "        \n",
    "    def reset(self):\n",
    "        self.current_index = 0\n",
    "        return self.X[self.current_index]\n",
    "\n",
    "    def step(self, action):\n",
    "        reward = 1 if action == self.y[self.current_index] else -1\n",
    "        self.current_index += 1\n",
    "        \n",
    "        done = self.current_index >= len(self.y)\n",
    "        next_state = self.X[self.current_index] if not done else None\n",
    "        \n",
    "        return next_state, reward, done\n",
    "\n",
    "# Initialize the environment\n",
    "env = IDS_Environment(X_new, y)\n"
   ]
  },
  {
   "cell_type": "code",
   "execution_count": 44,
   "metadata": {},
   "outputs": [],
   "source": [
    "class DQN(nn.Module):\n",
    "    def __init__(self, input_dim, output_dim):\n",
    "        super(DQN, self).__init__()\n",
    "        self.fc1 = nn.Linear(input_dim, 128)\n",
    "        self.fc2 = nn.Linear(128, 128)\n",
    "        self.fc3 = nn.Linear(128, output_dim)\n",
    "\n",
    "    def forward(self, x):\n",
    "        x = torch.relu(self.fc1(x))\n",
    "        x = torch.relu(self.fc2(x))\n",
    "        x = self.fc3(x)\n",
    "        return x\n",
    "\n",
    "# Initialize DQN\n",
    "input_dim = X_new.shape[1]\n",
    "output_dim = env.n_actions\n",
    "dqn = DQN(input_dim, output_dim)\n",
    "\n",
    "# Loss function and optimizer\n",
    "criterion = nn.MSELoss()\n",
    "optimizer = optim.Adam(dqn.parameters(), lr=0.009)\n"
   ]
  },
  {
   "cell_type": "code",
   "execution_count": null,
   "metadata": {},
   "outputs": [
    {
     "name": "stderr",
     "output_type": "stream",
     "text": [
      "c:\\Users\\sarve\\AppData\\Local\\Programs\\Python\\Python310\\lib\\site-packages\\torch\\nn\\modules\\loss.py:535: UserWarning: Using a target size (torch.Size([1, 1])) that is different to the input size (torch.Size([])). This will likely lead to incorrect results due to broadcasting. Please ensure they have the same size.\n",
      "  return F.mse_loss(input, target, reduction=self.reduction)\n"
     ]
    },
    {
     "name": "stdout",
     "output_type": "stream",
     "text": [
      "Episode 1/1000, Loss: 10019.512976574595\n",
      "Episode 2/1000, Loss: 10018.982860655\n",
      "Episode 3/1000, Loss: 10019.189354981878\n"
     ]
    },
    {
     "ename": "KeyboardInterrupt",
     "evalue": "",
     "output_type": "error",
     "traceback": [
      "\u001b[1;31m---------------------------------------------------------------------------\u001b[0m",
      "\u001b[1;31mKeyboardInterrupt\u001b[0m                         Traceback (most recent call last)",
      "Cell \u001b[1;32mIn[32], line 52\u001b[0m\n\u001b[0;32m     48\u001b[0m         \u001b[38;5;28mprint\u001b[39m(\u001b[38;5;124mf\u001b[39m\u001b[38;5;124m\"\u001b[39m\u001b[38;5;124mEpisode \u001b[39m\u001b[38;5;132;01m{\u001b[39;00mepisode\u001b[38;5;250m \u001b[39m\u001b[38;5;241m+\u001b[39m\u001b[38;5;250m \u001b[39m\u001b[38;5;241m1\u001b[39m\u001b[38;5;132;01m}\u001b[39;00m\u001b[38;5;124m/\u001b[39m\u001b[38;5;132;01m{\u001b[39;00mn_episodes\u001b[38;5;132;01m}\u001b[39;00m\u001b[38;5;124m, Loss: \u001b[39m\u001b[38;5;132;01m{\u001b[39;00mtotal_loss\u001b[38;5;132;01m}\u001b[39;00m\u001b[38;5;124m\"\u001b[39m)\n\u001b[0;32m     50\u001b[0m \u001b[38;5;66;03m# Ensure the env's state and action space sizes are consistent with your DQN model.\u001b[39;00m\n\u001b[0;32m     51\u001b[0m \u001b[38;5;66;03m# Then train the DQN using the function:\u001b[39;00m\n\u001b[1;32m---> 52\u001b[0m \u001b[43mtrain_dqn\u001b[49m\u001b[43m(\u001b[49m\u001b[43menv\u001b[49m\u001b[43m,\u001b[49m\u001b[43m \u001b[49m\u001b[43mdqn\u001b[49m\u001b[43m,\u001b[49m\u001b[43m \u001b[49m\u001b[43moptimizer\u001b[49m\u001b[43m,\u001b[49m\u001b[43m \u001b[49m\u001b[43mcriterion\u001b[49m\u001b[43m)\u001b[49m\n",
      "Cell \u001b[1;32mIn[32], line 42\u001b[0m, in \u001b[0;36mtrain_dqn\u001b[1;34m(env, dqn, optimizer, criterion, n_episodes, gamma, epsilon)\u001b[0m\n\u001b[0;32m     39\u001b[0m loss \u001b[38;5;241m=\u001b[39m criterion(output, target)\n\u001b[0;32m     41\u001b[0m optimizer\u001b[38;5;241m.\u001b[39mzero_grad()\n\u001b[1;32m---> 42\u001b[0m \u001b[43mloss\u001b[49m\u001b[38;5;241;43m.\u001b[39;49m\u001b[43mbackward\u001b[49m\u001b[43m(\u001b[49m\u001b[43m)\u001b[49m\n\u001b[0;32m     43\u001b[0m optimizer\u001b[38;5;241m.\u001b[39mstep()\n\u001b[0;32m     45\u001b[0m total_loss \u001b[38;5;241m+\u001b[39m\u001b[38;5;241m=\u001b[39m loss\u001b[38;5;241m.\u001b[39mitem()\n",
      "File \u001b[1;32mc:\\Users\\sarve\\AppData\\Local\\Programs\\Python\\Python310\\lib\\site-packages\\torch\\_tensor.py:492\u001b[0m, in \u001b[0;36mTensor.backward\u001b[1;34m(self, gradient, retain_graph, create_graph, inputs)\u001b[0m\n\u001b[0;32m    482\u001b[0m \u001b[38;5;28;01mif\u001b[39;00m has_torch_function_unary(\u001b[38;5;28mself\u001b[39m):\n\u001b[0;32m    483\u001b[0m     \u001b[38;5;28;01mreturn\u001b[39;00m handle_torch_function(\n\u001b[0;32m    484\u001b[0m         Tensor\u001b[38;5;241m.\u001b[39mbackward,\n\u001b[0;32m    485\u001b[0m         (\u001b[38;5;28mself\u001b[39m,),\n\u001b[1;32m   (...)\u001b[0m\n\u001b[0;32m    490\u001b[0m         inputs\u001b[38;5;241m=\u001b[39minputs,\n\u001b[0;32m    491\u001b[0m     )\n\u001b[1;32m--> 492\u001b[0m \u001b[43mtorch\u001b[49m\u001b[38;5;241;43m.\u001b[39;49m\u001b[43mautograd\u001b[49m\u001b[38;5;241;43m.\u001b[39;49m\u001b[43mbackward\u001b[49m\u001b[43m(\u001b[49m\n\u001b[0;32m    493\u001b[0m \u001b[43m    \u001b[49m\u001b[38;5;28;43mself\u001b[39;49m\u001b[43m,\u001b[49m\u001b[43m \u001b[49m\u001b[43mgradient\u001b[49m\u001b[43m,\u001b[49m\u001b[43m \u001b[49m\u001b[43mretain_graph\u001b[49m\u001b[43m,\u001b[49m\u001b[43m \u001b[49m\u001b[43mcreate_graph\u001b[49m\u001b[43m,\u001b[49m\u001b[43m \u001b[49m\u001b[43minputs\u001b[49m\u001b[38;5;241;43m=\u001b[39;49m\u001b[43minputs\u001b[49m\n\u001b[0;32m    494\u001b[0m \u001b[43m\u001b[49m\u001b[43m)\u001b[49m\n",
      "File \u001b[1;32mc:\\Users\\sarve\\AppData\\Local\\Programs\\Python\\Python310\\lib\\site-packages\\torch\\autograd\\__init__.py:251\u001b[0m, in \u001b[0;36mbackward\u001b[1;34m(tensors, grad_tensors, retain_graph, create_graph, grad_variables, inputs)\u001b[0m\n\u001b[0;32m    246\u001b[0m     retain_graph \u001b[38;5;241m=\u001b[39m create_graph\n\u001b[0;32m    248\u001b[0m \u001b[38;5;66;03m# The reason we repeat the same comment below is that\u001b[39;00m\n\u001b[0;32m    249\u001b[0m \u001b[38;5;66;03m# some Python versions print out the first line of a multi-line function\u001b[39;00m\n\u001b[0;32m    250\u001b[0m \u001b[38;5;66;03m# calls in the traceback and some print out the last line\u001b[39;00m\n\u001b[1;32m--> 251\u001b[0m \u001b[43mVariable\u001b[49m\u001b[38;5;241;43m.\u001b[39;49m\u001b[43m_execution_engine\u001b[49m\u001b[38;5;241;43m.\u001b[39;49m\u001b[43mrun_backward\u001b[49m\u001b[43m(\u001b[49m\u001b[43m  \u001b[49m\u001b[38;5;66;43;03m# Calls into the C++ engine to run the backward pass\u001b[39;49;00m\n\u001b[0;32m    252\u001b[0m \u001b[43m    \u001b[49m\u001b[43mtensors\u001b[49m\u001b[43m,\u001b[49m\n\u001b[0;32m    253\u001b[0m \u001b[43m    \u001b[49m\u001b[43mgrad_tensors_\u001b[49m\u001b[43m,\u001b[49m\n\u001b[0;32m    254\u001b[0m \u001b[43m    \u001b[49m\u001b[43mretain_graph\u001b[49m\u001b[43m,\u001b[49m\n\u001b[0;32m    255\u001b[0m \u001b[43m    \u001b[49m\u001b[43mcreate_graph\u001b[49m\u001b[43m,\u001b[49m\n\u001b[0;32m    256\u001b[0m \u001b[43m    \u001b[49m\u001b[43minputs\u001b[49m\u001b[43m,\u001b[49m\n\u001b[0;32m    257\u001b[0m \u001b[43m    \u001b[49m\u001b[43mallow_unreachable\u001b[49m\u001b[38;5;241;43m=\u001b[39;49m\u001b[38;5;28;43;01mTrue\u001b[39;49;00m\u001b[43m,\u001b[49m\n\u001b[0;32m    258\u001b[0m \u001b[43m    \u001b[49m\u001b[43maccumulate_grad\u001b[49m\u001b[38;5;241;43m=\u001b[39;49m\u001b[38;5;28;43;01mTrue\u001b[39;49;00m\u001b[43m,\u001b[49m\n\u001b[0;32m    259\u001b[0m \u001b[43m\u001b[49m\u001b[43m)\u001b[49m\n",
      "\u001b[1;31mKeyboardInterrupt\u001b[0m: "
     ]
    }
   ],
   "source": [
    "import torch\n",
    "import random\n",
    "import torch.nn.functional as F\n",
    "\n",
    "def train_dqn(env, dqn, optimizer, criterion, n_episodes=1000, gamma=0.99, epsilon=0.1):\n",
    "    dqn.train()\n",
    "    for episode in range(n_episodes):\n",
    "        state = env.reset()\n",
    "        state = torch.FloatTensor(state).unsqueeze(0)  # Shape [1, num_features]\n",
    "\n",
    "        done = False\n",
    "        total_loss = 0\n",
    "\n",
    "        while not done:\n",
    "            if random.random() < epsilon:\n",
    "                action = random.choice([0, 1])\n",
    "            else:\n",
    "                with torch.no_grad():\n",
    "                    q_values = dqn(state)\n",
    "                    action = q_values.argmax().item()\n",
    "\n",
    "            next_state, reward, done = env.step(action)\n",
    "            next_state = torch.FloatTensor(next_state).unsqueeze(0) if next_state is not None else None\n",
    "            \n",
    "            reward = torch.tensor([reward], dtype=torch.float32)\n",
    "\n",
    "            # Calculate target\n",
    "            if next_state is not None:\n",
    "                with torch.no_grad():\n",
    "                    max_next_q_value = dqn(next_state).max()\n",
    "                target = reward + gamma * max_next_q_value\n",
    "            else:\n",
    "                target = reward\n",
    "            \n",
    "            # Ensure target and output have consistent shapes\n",
    "            target = target.unsqueeze(0)  # Shape [1]\n",
    "            output = dqn(state)[0, action]  # Shape [1]\n",
    "\n",
    "            loss = criterion(output, target)\n",
    "            \n",
    "            optimizer.zero_grad()\n",
    "            loss.backward()\n",
    "            optimizer.step()\n",
    "\n",
    "            total_loss += loss.item()\n",
    "            state = next_state\n",
    "\n",
    "        print(f\"Episode {episode + 1}/{n_episodes}, Loss: {total_loss}\")\n",
    "\n",
    "# Ensure the env's state and action space sizes are consistent with your DQN model.\n",
    "# Then train the DQN using the function:\n",
    "train_dqn(env, dqn, optimizer, criterion)\n"
   ]
  }
 ],
 "metadata": {
  "kernelspec": {
   "display_name": "Python 3",
   "language": "python",
   "name": "python3"
  },
  "language_info": {
   "codemirror_mode": {
    "name": "ipython",
    "version": 3
   },
   "file_extension": ".py",
   "mimetype": "text/x-python",
   "name": "python",
   "nbconvert_exporter": "python",
   "pygments_lexer": "ipython3",
   "version": "3.10.0"
  }
 },
 "nbformat": 4,
 "nbformat_minor": 2
}
