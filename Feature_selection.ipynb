{
 "cells": [
  {
   "cell_type": "code",
   "execution_count": 5,
   "metadata": {},
   "outputs": [],
   "source": [
    "import pandas as pd\n",
    "import numpy as np\n",
    "from sklearn.model_selection import train_test_split\n",
    "from sklearn.preprocessing import StandardScaler\n",
    "from sklearn.feature_selection import SelectKBest, chi2\n",
    "\n",
    "# Load dataset\n",
    "data = pd.read_csv('./Book1.csv')\n",
    "\n",
    "# Preprocess data\n",
    "features = [\n",
    "    'frame.interface_id',\n",
    "    'frame.dlt',\n",
    "    'frame.offset_shift',\n",
    "    'frame.time_epoch',\n",
    "    'frame.time_delta',\n",
    "    'frame.time_delta_displayed',\n",
    "    'frame.time_relative',\n",
    "    'frame.len',\n",
    "    'frame.cap_len',\n",
    "    'frame.marked',\n",
    "    'frame.ignored',\n",
    "    'radiotap.version',\n",
    "    'radiotap.pad',\n",
    "    'radiotap.length',\n",
    "    'radiotap.present.tsft',\n",
    "    'radiotap.present.flags',\n",
    "    'radiotap.present.rate',\n",
    "    'radiotap.present.channel',\n",
    "    'radiotap.present.fhss',\n",
    "    'radiotap.present.dbm_antsignal',\n",
    "    'radiotap.present.dbm_antnoise',\n",
    "    'radiotap.present.lock_quality',\n",
    "    'radiotap.present.tx_attenuation',\n",
    "    'radiotap.present.db_tx_attenuation',\n",
    "    'radiotap.present.dbm_tx_power',\n",
    "    'radiotap.present.antenna',\n",
    "    'radiotap.present.db_antsignal',\n",
    "    'radiotap.present.db_antnoise',\n",
    "    'radiotap.present.rxflags',\n",
    "    'radiotap.present.xchannel',\n",
    "    'radiotap.present.mcs',\n",
    "    'radiotap.present.ampdu',\n",
    "    'radiotap.present.vht',\n",
    "    'radiotap.present.reserved',\n",
    "    'radiotap.present.rtap_ns',\n",
    "    'radiotap.present.vendor_ns',\n",
    "    'radiotap.present.ext',\n",
    "    'radiotap.mactime',\n",
    "    'radiotap.flags.cfp',\n",
    "    'radiotap.flags.preamble',\n",
    "    'radiotap.flags.wep',\n",
    "    'radiotap.flags.frag',\n",
    "    'radiotap.flags.fcs',\n",
    "    'radiotap.flags.datapad',\n",
    "    'radiotap.flags.badfcs',\n",
    "    'radiotap.flags.shortgi',\n",
    "    'radiotap.datarate',\n",
    "    'radiotap.channel.freq',\n",
    "    'radiotap.channel.type.turbo',\n",
    "    'radiotap.channel.type.cck',\n",
    "    'radiotap.channel.type.ofdm',\n",
    "    'radiotap.channel.type.2ghz',\n",
    "    'radiotap.channel.type.5ghz',\n",
    "    'radiotap.channel.type.passive',\n",
    "    'radiotap.channel.type.dynamic',\n",
    "    'radiotap.channel.type.gfsk',\n",
    "    'radiotap.channel.type.gsm',\n",
    "    'radiotap.channel.type.sturbo',\n",
    "    'radiotap.channel.type.half',\n",
    "    'radiotap.channel.type.quarter',\n",
    "    'radiotap.dbm_antsignal',\n",
    "    'radiotap.antenna',\n",
    "    'radiotap.rxflags.badplcp',\n",
    "    'wlan.fc.type_subtype',\n",
    "    'wlan.fc.version',\n",
    "    'wlan.fc.type',\n",
    "    'wlan.fc.subtype',\n",
    "    'wlan.fc.ds',\n",
    "    'wlan.fc.frag',\n",
    "    'wlan.fc.retry',\n",
    "    'wlan.fc.pwrmgt',\n",
    "    'wlan.fc.moredata',\n",
    "    'wlan.fc.protected',\n",
    "    'wlan.fc.order',\n",
    "    'wlan.duration',\n",
    "    'wlan.ra',\n",
    "    'wlan.da',\n",
    "    'wlan.ta',\n",
    "    'wlan.sa',\n",
    "    'wlan.bssid',\n",
    "    'wlan.frag',\n",
    "    'wlan.seq',\n",
    "    'wlan.bar.type',\n",
    "    'wlan.ba.control.ackpolicy',\n",
    "    'wlan.ba.control.multitid',\n",
    "    'wlan.ba.control.cbitmap',\n",
    "    'wlan.bar.compressed.tidinfo',\n",
    "    'wlan.ba.bm',\n",
    "    'wlan.fcs_good',\n",
    "    'wlan_mgt.fixed.capabilities.ess',\n",
    "    'wlan_mgt.fixed.capabilities.ibss',\n",
    "    'wlan_mgt.fixed.capabilities.cfpoll.ap',\n",
    "    'wlan_mgt.fixed.capabilities.privacy',\n",
    "    'wlan_mgt.fixed.capabilities.preamble',\n",
    "    'wlan_mgt.fixed.capabilities.pbcc',\n",
    "    'wlan_mgt.fixed.capabilities.agility',\n",
    "    'wlan_mgt.fixed.capabilities.spec_man',\n",
    "    'wlan_mgt.fixed.capabilities.short_slot_time',\n",
    "    'wlan_mgt.fixed.capabilities.apsd',\n",
    "    'wlan_mgt.fixed.capabilities.radio_measurement',\n",
    "    'wlan_mgt.fixed.capabilities.dsss_ofdm',\n",
    "    'wlan_mgt.fixed.capabilities.del_blk_ack',\n",
    "    'wlan_mgt.fixed.capabilities.imm_blk_ack',\n",
    "    'wlan_mgt.fixed.listen_ival',\n",
    "    'wlan_mgt.fixed.current_ap',\n",
    "    'wlan_mgt.fixed.status_code',\n",
    "    'wlan_mgt.fixed.timestamp',\n",
    "    'wlan_mgt.fixed.beacon',\n",
    "    'wlan_mgt.fixed.aid',\n",
    "    'wlan_mgt.fixed.reason_code',\n",
    "    'wlan_mgt.fixed.auth.alg',\n",
    "    'wlan_mgt.fixed.auth_seq',\n",
    "    'wlan_mgt.fixed.category_code',\n",
    "    'wlan_mgt.fixed.htact',\n",
    "    'wlan_mgt.fixed.chanwidth',\n",
    "    'wlan_mgt.fixed.fragment',\n",
    "    'wlan_mgt.fixed.sequence',\n",
    "    'wlan_mgt.tagged.all',\n",
    "    'wlan_mgt.ssid',\n",
    "    'wlan_mgt.ds.current_channel',\n",
    "    'wlan_mgt.tim.dtim_count',\n",
    "    'wlan_mgt.tim.dtim_period',\n",
    "    'wlan_mgt.tim.bmapctl.multicast',\n",
    "    'wlan_mgt.tim.bmapctl.offset',\n",
    "    'wlan_mgt.country_info.environment',\n",
    "    'wlan_mgt.rsn.version',\n",
    "    'wlan_mgt.rsn.gcs.type',\n",
    "    'wlan_mgt.rsn.pcs.count',\n",
    "    'wlan_mgt.rsn.akms.count',\n",
    "    'wlan_mgt.rsn.akms.type',\n",
    "    'wlan_mgt.rsn.capabilities.preauth',\n",
    "    'wlan_mgt.rsn.capabilities.no_pairwise',\n",
    "    'wlan_mgt.rsn.capabilities.ptksa_replay_counter',\n",
    "    'wlan_mgt.rsn.capabilities.gtksa_replay_counter',\n",
    "    'wlan_mgt.rsn.capabilities.mfpr',\n",
    "    'wlan_mgt.rsn.capabilities.mfpc',\n",
    "    'wlan_mgt.rsn.capabilities.peerkey',\n",
    "    'wlan_mgt.tcprep.trsmt_pow',\n",
    "    'wlan_mgt.tcprep.link_mrg',\n",
    "    'wlan.wep.iv',\n",
    "    'wlan.wep.key',\n",
    "    'wlan.wep.icv',\n",
    "    'wlan.tkip.extiv',\n",
    "    'wlan.ccmp.extiv',\n",
    "    'wlan.qos.tid',\n",
    "    'wlan.qos.priority',\n",
    "    'wlan.qos.eosp',\n",
    "    'wlan.qos.ack',\n",
    "    'wlan.qos.amsdupresent',\n",
    "    'wlan.qos.buf_state_indicated',\n",
    "    'wlan.qos.bit4',\n",
    "    'wlan.qos.txop_dur_req',\n",
    "    'wlan.qos.buf_state_indicated',\n",
    "    'data.len',\n",
    "    'class'\n",
    "]\n",
    "\n",
    "# Assuming 'label' is the target column\n",
    "data['class'] = data['class'].astype(str)\n",
    "data['label'] = data['class'].apply(lambda x: 0 if x.lower() == 'normal' else 1)\n",
    "data = data.drop(columns=['class'])\n",
    "data.to_csv('./Book1.csv', index=False)\n",
    "\n"
   ]
  },
  {
   "cell_type": "code",
   "execution_count": 10,
   "metadata": {},
   "outputs": [
    {
     "data": {
      "text/plain": [
       "(70,)"
      ]
     },
     "execution_count": 10,
     "metadata": {},
     "output_type": "execute_result"
    }
   ],
   "source": [
    "data['label'].value_counts(normalize=True)\n",
    "data.isna().sum()\n",
    "data.replace({\"?\": None}, inplace=True)\n",
    "\n"
   ]
  },
  {
   "cell_type": "code",
   "execution_count": 20,
   "metadata": {},
   "outputs": [
    {
     "data": {
      "text/plain": [
       "frame.interface_id            0\n",
       "frame.offset_shift            0\n",
       "frame.time_epoch              0\n",
       "frame.time_delta              0\n",
       "frame.time_delta_displayed    0\n",
       "                             ..\n",
       "wlan.seq                      0\n",
       "wlan.fcs_good                 0\n",
       "wlan.wep.key                  0\n",
       "data.len                      0\n",
       "label                         0\n",
       "Length: 85, dtype: int64"
      ]
     },
     "execution_count": 20,
     "metadata": {},
     "output_type": "execute_result"
    }
   ],
   "source": [
    "data.isna().sum()\n",
    "\n"
   ]
  },
  {
   "cell_type": "code",
   "execution_count": 18,
   "metadata": {},
   "outputs": [
    {
     "data": {
      "text/plain": [
       "(0,)"
      ]
     },
     "execution_count": 18,
     "metadata": {},
     "output_type": "execute_result"
    }
   ],
   "source": [
    "columns_with_mostly_null_data = data.columns[data.isnull().mean() >= 0.5]\n",
    "columns_with_mostly_null_data.shape"
   ]
  },
  {
   "cell_type": "code",
   "execution_count": 19,
   "metadata": {},
   "outputs": [
    {
     "data": {
      "text/plain": [
       "(0, 85)"
      ]
     },
     "execution_count": 19,
     "metadata": {},
     "output_type": "execute_result"
    }
   ],
   "source": [
    "\n",
    "data.drop(columns_with_mostly_null_data, axis=1, inplace=True)\n",
    "data.shape"
   ]
  },
  {
   "cell_type": "code",
   "execution_count": 21,
   "metadata": {},
   "outputs": [],
   "source": [
    "data.dropna(inplace=True)"
   ]
  },
  {
   "cell_type": "code",
   "execution_count": 23,
   "metadata": {},
   "outputs": [
    {
     "data": {
      "text/plain": [
       "(0, 85)"
      ]
     },
     "execution_count": 23,
     "metadata": {},
     "output_type": "execute_result"
    }
   ],
   "source": [
    "data.shape"
   ]
  },
  {
   "cell_type": "code",
   "execution_count": 11,
   "metadata": {},
   "outputs": [
    {
     "ename": "KeyboardInterrupt",
     "evalue": "",
     "output_type": "error",
     "traceback": [
      "\u001b[1;31m---------------------------------------------------------------------------\u001b[0m",
      "\u001b[1;31mKeyboardInterrupt\u001b[0m                         Traceback (most recent call last)",
      "Cell \u001b[1;32mIn[11], line 7\u001b[0m\n\u001b[0;32m      2\u001b[0m y \u001b[38;5;241m=\u001b[39m data[\u001b[38;5;124m'\u001b[39m\u001b[38;5;124mlabel\u001b[39m\u001b[38;5;124m'\u001b[39m]\n\u001b[0;32m      6\u001b[0m \u001b[38;5;66;03m# Encode categorical features and normalize numerical features\u001b[39;00m\n\u001b[1;32m----> 7\u001b[0m X \u001b[38;5;241m=\u001b[39m \u001b[43mpd\u001b[49m\u001b[38;5;241;43m.\u001b[39;49m\u001b[43mget_dummies\u001b[49m\u001b[43m(\u001b[49m\u001b[43mX\u001b[49m\u001b[43m)\u001b[49m\n\u001b[0;32m      8\u001b[0m scaler \u001b[38;5;241m=\u001b[39m StandardScaler()\n\u001b[0;32m      9\u001b[0m X \u001b[38;5;241m=\u001b[39m scaler\u001b[38;5;241m.\u001b[39mfit_transform(X)\n",
      "File \u001b[1;32mc:\\Users\\sarve\\AppData\\Local\\Programs\\Python\\Python310\\lib\\site-packages\\pandas\\core\\reshape\\encoding.py:209\u001b[0m, in \u001b[0;36mget_dummies\u001b[1;34m(data, prefix, prefix_sep, dummy_na, columns, sparse, drop_first, dtype)\u001b[0m\n\u001b[0;32m    205\u001b[0m     with_dummies \u001b[38;5;241m=\u001b[39m [data\u001b[38;5;241m.\u001b[39mselect_dtypes(exclude\u001b[38;5;241m=\u001b[39mdtypes_to_encode)]\n\u001b[0;32m    207\u001b[0m \u001b[38;5;28;01mfor\u001b[39;00m col, pre, sep \u001b[38;5;129;01min\u001b[39;00m \u001b[38;5;28mzip\u001b[39m(data_to_encode\u001b[38;5;241m.\u001b[39mitems(), prefix, prefix_sep):\n\u001b[0;32m    208\u001b[0m     \u001b[38;5;66;03m# col is (column_name, column), use just column data here\u001b[39;00m\n\u001b[1;32m--> 209\u001b[0m     dummy \u001b[38;5;241m=\u001b[39m \u001b[43m_get_dummies_1d\u001b[49m\u001b[43m(\u001b[49m\n\u001b[0;32m    210\u001b[0m \u001b[43m        \u001b[49m\u001b[43mcol\u001b[49m\u001b[43m[\u001b[49m\u001b[38;5;241;43m1\u001b[39;49m\u001b[43m]\u001b[49m\u001b[43m,\u001b[49m\n\u001b[0;32m    211\u001b[0m \u001b[43m        \u001b[49m\u001b[43mprefix\u001b[49m\u001b[38;5;241;43m=\u001b[39;49m\u001b[43mpre\u001b[49m\u001b[43m,\u001b[49m\n\u001b[0;32m    212\u001b[0m \u001b[43m        \u001b[49m\u001b[43mprefix_sep\u001b[49m\u001b[38;5;241;43m=\u001b[39;49m\u001b[43msep\u001b[49m\u001b[43m,\u001b[49m\n\u001b[0;32m    213\u001b[0m \u001b[43m        \u001b[49m\u001b[43mdummy_na\u001b[49m\u001b[38;5;241;43m=\u001b[39;49m\u001b[43mdummy_na\u001b[49m\u001b[43m,\u001b[49m\n\u001b[0;32m    214\u001b[0m \u001b[43m        \u001b[49m\u001b[43msparse\u001b[49m\u001b[38;5;241;43m=\u001b[39;49m\u001b[43msparse\u001b[49m\u001b[43m,\u001b[49m\n\u001b[0;32m    215\u001b[0m \u001b[43m        \u001b[49m\u001b[43mdrop_first\u001b[49m\u001b[38;5;241;43m=\u001b[39;49m\u001b[43mdrop_first\u001b[49m\u001b[43m,\u001b[49m\n\u001b[0;32m    216\u001b[0m \u001b[43m        \u001b[49m\u001b[43mdtype\u001b[49m\u001b[38;5;241;43m=\u001b[39;49m\u001b[43mdtype\u001b[49m\u001b[43m,\u001b[49m\n\u001b[0;32m    217\u001b[0m \u001b[43m    \u001b[49m\u001b[43m)\u001b[49m\n\u001b[0;32m    218\u001b[0m     with_dummies\u001b[38;5;241m.\u001b[39mappend(dummy)\n\u001b[0;32m    219\u001b[0m result \u001b[38;5;241m=\u001b[39m concat(with_dummies, axis\u001b[38;5;241m=\u001b[39m\u001b[38;5;241m1\u001b[39m)\n",
      "File \u001b[1;32mc:\\Users\\sarve\\AppData\\Local\\Programs\\Python\\Python310\\lib\\site-packages\\pandas\\core\\reshape\\encoding.py:330\u001b[0m, in \u001b[0;36m_get_dummies_1d\u001b[1;34m(data, prefix, prefix_sep, dummy_na, sparse, drop_first, dtype)\u001b[0m\n\u001b[0;32m    328\u001b[0m \u001b[38;5;28;01melse\u001b[39;00m:\n\u001b[0;32m    329\u001b[0m     eye_dtype \u001b[38;5;241m=\u001b[39m np\u001b[38;5;241m.\u001b[39mbool_\n\u001b[1;32m--> 330\u001b[0m dummy_mat \u001b[38;5;241m=\u001b[39m \u001b[43mnp\u001b[49m\u001b[38;5;241;43m.\u001b[39;49m\u001b[43meye\u001b[49m\u001b[43m(\u001b[49m\u001b[43mnumber_of_cols\u001b[49m\u001b[43m,\u001b[49m\u001b[43m \u001b[49m\u001b[43mdtype\u001b[49m\u001b[38;5;241;43m=\u001b[39;49m\u001b[43meye_dtype\u001b[49m\u001b[43m)\u001b[49m\u001b[38;5;241;43m.\u001b[39;49m\u001b[43mtake\u001b[49m\u001b[43m(\u001b[49m\u001b[43mcodes\u001b[49m\u001b[43m,\u001b[49m\u001b[43m \u001b[49m\u001b[43maxis\u001b[49m\u001b[38;5;241;43m=\u001b[39;49m\u001b[38;5;241;43m1\u001b[39;49m\u001b[43m)\u001b[49m\u001b[38;5;241m.\u001b[39mT\n\u001b[0;32m    332\u001b[0m \u001b[38;5;28;01mif\u001b[39;00m \u001b[38;5;129;01mnot\u001b[39;00m dummy_na:\n\u001b[0;32m    333\u001b[0m     \u001b[38;5;66;03m# reset NaN GH4446\u001b[39;00m\n\u001b[0;32m    334\u001b[0m     dummy_mat[codes \u001b[38;5;241m==\u001b[39m \u001b[38;5;241m-\u001b[39m\u001b[38;5;241m1\u001b[39m] \u001b[38;5;241m=\u001b[39m \u001b[38;5;241m0\u001b[39m\n",
      "\u001b[1;31mKeyboardInterrupt\u001b[0m: "
     ]
    }
   ],
   "source": [
    "X = data.drop(columns=['label'])\n",
    "y = data['label']\n",
    "\n",
    "\n",
    "\n",
    "# Encode categorical features and normalize numerical features\n",
    "X = pd.get_dummies(X)\n",
    "scaler = StandardScaler()\n",
    "X = scaler.fit_transform(X)\n",
    "\n",
    "# Feature selection\n",
    "select_k_best = SelectKBest(chi2, k=20)  # Adjust k based on the number of important features you want to keep\n",
    "X_new = select_k_best.fit_transform(X, y)\n",
    "\n",
    "# Split data\n",
    "X_train, X_test, y_train, y_test = train_test_split(X_new, y, test_size=0.3, random_state=42)"
   ]
  }
 ],
 "metadata": {
  "kernelspec": {
   "display_name": "Python 3",
   "language": "python",
   "name": "python3"
  },
  "language_info": {
   "codemirror_mode": {
    "name": "ipython",
    "version": 3
   },
   "file_extension": ".py",
   "mimetype": "text/x-python",
   "name": "python",
   "nbconvert_exporter": "python",
   "pygments_lexer": "ipython3",
   "version": "3.10.0"
  }
 },
 "nbformat": 4,
 "nbformat_minor": 2
}
